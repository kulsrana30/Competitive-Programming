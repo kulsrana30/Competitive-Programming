{
  "cells": [
    {
      "cell_type": "markdown",
      "metadata": {
        "id": "view-in-github",
        "colab_type": "text"
      },
      "source": [
        "<a href=\"https://colab.research.google.com/github/kulsrana30/Competitive-Programming/blob/master/Welcome_to_Colaboratory.ipynb\" target=\"_parent\"><img src=\"https://colab.research.google.com/assets/colab-badge.svg\" alt=\"Open In Colab\"/></a>"
      ]
    },
    {
      "cell_type": "code",
      "source": [
        "# !pip install tensorflow-gpu"
      ],
      "metadata": {
        "id": "9JsUJLwYaLbo"
      },
      "execution_count": 63,
      "outputs": []
    },
    {
      "cell_type": "code",
      "source": [
        "import tensorflow as tf\n",
        "print(tf.__version__)"
      ],
      "metadata": {
        "id": "XoRRZR7NcPVw",
        "outputId": "5d936974-031f-4f9a-e85c-908b6ca570c0",
        "colab": {
          "base_uri": "https://localhost:8080/"
        }
      },
      "execution_count": 64,
      "outputs": [
        {
          "output_type": "stream",
          "name": "stdout",
          "text": [
            "2.11.0\n"
          ]
        }
      ]
    },
    {
      "cell_type": "code",
      "source": [
        "# import basic library\n",
        "import numpy as np\n",
        "import matplotlib.pyplot as plt\n",
        "import pandas as pd"
      ],
      "metadata": {
        "id": "1cHAJYGdc0Fq"
      },
      "execution_count": 65,
      "outputs": []
    },
    {
      "cell_type": "code",
      "source": [
        "dataset=pd.read_csv('Churn_Modelling.csv')"
      ],
      "metadata": {
        "id": "PLaL0CdidBAE"
      },
      "execution_count": 66,
      "outputs": []
    },
    {
      "cell_type": "code",
      "source": [
        "dataset.head()"
      ],
      "metadata": {
        "id": "UADHCJKPdJea",
        "outputId": "1b4cd7e2-07c7-4399-9faa-8f51e76d4d5c",
        "colab": {
          "base_uri": "https://localhost:8080/",
          "height": 206
        }
      },
      "execution_count": 67,
      "outputs": [
        {
          "output_type": "execute_result",
          "data": {
            "text/plain": [
              "   RowNumber  CustomerId   Surname  CreditScore Geography  Gender  Age  \\\n",
              "0          1    15634602  Hargrave          619    France  Female   42   \n",
              "1          2    15647311      Hill          608     Spain  Female   41   \n",
              "2          3    15619304      Onio          502    France  Female   42   \n",
              "3          4    15701354      Boni          699    France  Female   39   \n",
              "4          5    15737888  Mitchell          850     Spain  Female   43   \n",
              "\n",
              "   Tenure    Balance  NumOfProducts  HasCrCard  IsActiveMember  \\\n",
              "0       2       0.00              1          1               1   \n",
              "1       1   83807.86              1          0               1   \n",
              "2       8  159660.80              3          1               0   \n",
              "3       1       0.00              2          0               0   \n",
              "4       2  125510.82              1          1               1   \n",
              "\n",
              "   EstimatedSalary  Exited  \n",
              "0        101348.88       1  \n",
              "1        112542.58       0  \n",
              "2        113931.57       1  \n",
              "3         93826.63       0  \n",
              "4         79084.10       0  "
            ],
            "text/html": [
              "\n",
              "  <div id=\"df-e6dc9067-5952-45fc-a72b-926d5f99a0fd\">\n",
              "    <div class=\"colab-df-container\">\n",
              "      <div>\n",
              "<style scoped>\n",
              "    .dataframe tbody tr th:only-of-type {\n",
              "        vertical-align: middle;\n",
              "    }\n",
              "\n",
              "    .dataframe tbody tr th {\n",
              "        vertical-align: top;\n",
              "    }\n",
              "\n",
              "    .dataframe thead th {\n",
              "        text-align: right;\n",
              "    }\n",
              "</style>\n",
              "<table border=\"1\" class=\"dataframe\">\n",
              "  <thead>\n",
              "    <tr style=\"text-align: right;\">\n",
              "      <th></th>\n",
              "      <th>RowNumber</th>\n",
              "      <th>CustomerId</th>\n",
              "      <th>Surname</th>\n",
              "      <th>CreditScore</th>\n",
              "      <th>Geography</th>\n",
              "      <th>Gender</th>\n",
              "      <th>Age</th>\n",
              "      <th>Tenure</th>\n",
              "      <th>Balance</th>\n",
              "      <th>NumOfProducts</th>\n",
              "      <th>HasCrCard</th>\n",
              "      <th>IsActiveMember</th>\n",
              "      <th>EstimatedSalary</th>\n",
              "      <th>Exited</th>\n",
              "    </tr>\n",
              "  </thead>\n",
              "  <tbody>\n",
              "    <tr>\n",
              "      <th>0</th>\n",
              "      <td>1</td>\n",
              "      <td>15634602</td>\n",
              "      <td>Hargrave</td>\n",
              "      <td>619</td>\n",
              "      <td>France</td>\n",
              "      <td>Female</td>\n",
              "      <td>42</td>\n",
              "      <td>2</td>\n",
              "      <td>0.00</td>\n",
              "      <td>1</td>\n",
              "      <td>1</td>\n",
              "      <td>1</td>\n",
              "      <td>101348.88</td>\n",
              "      <td>1</td>\n",
              "    </tr>\n",
              "    <tr>\n",
              "      <th>1</th>\n",
              "      <td>2</td>\n",
              "      <td>15647311</td>\n",
              "      <td>Hill</td>\n",
              "      <td>608</td>\n",
              "      <td>Spain</td>\n",
              "      <td>Female</td>\n",
              "      <td>41</td>\n",
              "      <td>1</td>\n",
              "      <td>83807.86</td>\n",
              "      <td>1</td>\n",
              "      <td>0</td>\n",
              "      <td>1</td>\n",
              "      <td>112542.58</td>\n",
              "      <td>0</td>\n",
              "    </tr>\n",
              "    <tr>\n",
              "      <th>2</th>\n",
              "      <td>3</td>\n",
              "      <td>15619304</td>\n",
              "      <td>Onio</td>\n",
              "      <td>502</td>\n",
              "      <td>France</td>\n",
              "      <td>Female</td>\n",
              "      <td>42</td>\n",
              "      <td>8</td>\n",
              "      <td>159660.80</td>\n",
              "      <td>3</td>\n",
              "      <td>1</td>\n",
              "      <td>0</td>\n",
              "      <td>113931.57</td>\n",
              "      <td>1</td>\n",
              "    </tr>\n",
              "    <tr>\n",
              "      <th>3</th>\n",
              "      <td>4</td>\n",
              "      <td>15701354</td>\n",
              "      <td>Boni</td>\n",
              "      <td>699</td>\n",
              "      <td>France</td>\n",
              "      <td>Female</td>\n",
              "      <td>39</td>\n",
              "      <td>1</td>\n",
              "      <td>0.00</td>\n",
              "      <td>2</td>\n",
              "      <td>0</td>\n",
              "      <td>0</td>\n",
              "      <td>93826.63</td>\n",
              "      <td>0</td>\n",
              "    </tr>\n",
              "    <tr>\n",
              "      <th>4</th>\n",
              "      <td>5</td>\n",
              "      <td>15737888</td>\n",
              "      <td>Mitchell</td>\n",
              "      <td>850</td>\n",
              "      <td>Spain</td>\n",
              "      <td>Female</td>\n",
              "      <td>43</td>\n",
              "      <td>2</td>\n",
              "      <td>125510.82</td>\n",
              "      <td>1</td>\n",
              "      <td>1</td>\n",
              "      <td>1</td>\n",
              "      <td>79084.10</td>\n",
              "      <td>0</td>\n",
              "    </tr>\n",
              "  </tbody>\n",
              "</table>\n",
              "</div>\n",
              "      <button class=\"colab-df-convert\" onclick=\"convertToInteractive('df-e6dc9067-5952-45fc-a72b-926d5f99a0fd')\"\n",
              "              title=\"Convert this dataframe to an interactive table.\"\n",
              "              style=\"display:none;\">\n",
              "        \n",
              "  <svg xmlns=\"http://www.w3.org/2000/svg\" height=\"24px\"viewBox=\"0 0 24 24\"\n",
              "       width=\"24px\">\n",
              "    <path d=\"M0 0h24v24H0V0z\" fill=\"none\"/>\n",
              "    <path d=\"M18.56 5.44l.94 2.06.94-2.06 2.06-.94-2.06-.94-.94-2.06-.94 2.06-2.06.94zm-11 1L8.5 8.5l.94-2.06 2.06-.94-2.06-.94L8.5 2.5l-.94 2.06-2.06.94zm10 10l.94 2.06.94-2.06 2.06-.94-2.06-.94-.94-2.06-.94 2.06-2.06.94z\"/><path d=\"M17.41 7.96l-1.37-1.37c-.4-.4-.92-.59-1.43-.59-.52 0-1.04.2-1.43.59L10.3 9.45l-7.72 7.72c-.78.78-.78 2.05 0 2.83L4 21.41c.39.39.9.59 1.41.59.51 0 1.02-.2 1.41-.59l7.78-7.78 2.81-2.81c.8-.78.8-2.07 0-2.86zM5.41 20L4 18.59l7.72-7.72 1.47 1.35L5.41 20z\"/>\n",
              "  </svg>\n",
              "      </button>\n",
              "      \n",
              "  <style>\n",
              "    .colab-df-container {\n",
              "      display:flex;\n",
              "      flex-wrap:wrap;\n",
              "      gap: 12px;\n",
              "    }\n",
              "\n",
              "    .colab-df-convert {\n",
              "      background-color: #E8F0FE;\n",
              "      border: none;\n",
              "      border-radius: 50%;\n",
              "      cursor: pointer;\n",
              "      display: none;\n",
              "      fill: #1967D2;\n",
              "      height: 32px;\n",
              "      padding: 0 0 0 0;\n",
              "      width: 32px;\n",
              "    }\n",
              "\n",
              "    .colab-df-convert:hover {\n",
              "      background-color: #E2EBFA;\n",
              "      box-shadow: 0px 1px 2px rgba(60, 64, 67, 0.3), 0px 1px 3px 1px rgba(60, 64, 67, 0.15);\n",
              "      fill: #174EA6;\n",
              "    }\n",
              "\n",
              "    [theme=dark] .colab-df-convert {\n",
              "      background-color: #3B4455;\n",
              "      fill: #D2E3FC;\n",
              "    }\n",
              "\n",
              "    [theme=dark] .colab-df-convert:hover {\n",
              "      background-color: #434B5C;\n",
              "      box-shadow: 0px 1px 3px 1px rgba(0, 0, 0, 0.15);\n",
              "      filter: drop-shadow(0px 1px 2px rgba(0, 0, 0, 0.3));\n",
              "      fill: #FFFFFF;\n",
              "    }\n",
              "  </style>\n",
              "\n",
              "      <script>\n",
              "        const buttonEl =\n",
              "          document.querySelector('#df-e6dc9067-5952-45fc-a72b-926d5f99a0fd button.colab-df-convert');\n",
              "        buttonEl.style.display =\n",
              "          google.colab.kernel.accessAllowed ? 'block' : 'none';\n",
              "\n",
              "        async function convertToInteractive(key) {\n",
              "          const element = document.querySelector('#df-e6dc9067-5952-45fc-a72b-926d5f99a0fd');\n",
              "          const dataTable =\n",
              "            await google.colab.kernel.invokeFunction('convertToInteractive',\n",
              "                                                     [key], {});\n",
              "          if (!dataTable) return;\n",
              "\n",
              "          const docLinkHtml = 'Like what you see? Visit the ' +\n",
              "            '<a target=\"_blank\" href=https://colab.research.google.com/notebooks/data_table.ipynb>data table notebook</a>'\n",
              "            + ' to learn more about interactive tables.';\n",
              "          element.innerHTML = '';\n",
              "          dataTable['output_type'] = 'display_data';\n",
              "          await google.colab.output.renderOutput(dataTable, element);\n",
              "          const docLink = document.createElement('div');\n",
              "          docLink.innerHTML = docLinkHtml;\n",
              "          element.appendChild(docLink);\n",
              "        }\n",
              "      </script>\n",
              "    </div>\n",
              "  </div>\n",
              "  "
            ]
          },
          "metadata": {},
          "execution_count": 67
        }
      ]
    },
    {
      "cell_type": "code",
      "source": [
        "dataset.shape"
      ],
      "metadata": {
        "id": "hsw2ZeuEdyxR",
        "outputId": "cd49e372-ce5e-4a13-c3c3-40493d40d288",
        "colab": {
          "base_uri": "https://localhost:8080/"
        }
      },
      "execution_count": 68,
      "outputs": [
        {
          "output_type": "execute_result",
          "data": {
            "text/plain": [
              "(10000, 14)"
            ]
          },
          "metadata": {},
          "execution_count": 68
        }
      ]
    },
    {
      "cell_type": "code",
      "source": [
        "## divide the dataset into independt and dependent faeture\n",
        "X=dataset.iloc[:,3:13]\n",
        "y=dataset.iloc[:,13]"
      ],
      "metadata": {
        "id": "Yn1pL14VdLCz"
      },
      "execution_count": 69,
      "outputs": []
    },
    {
      "cell_type": "code",
      "source": [
        "X.head()"
      ],
      "metadata": {
        "id": "Ox7Upl9AeANT",
        "outputId": "7af779c8-d86a-4cdb-b9eb-950456a607b2",
        "colab": {
          "base_uri": "https://localhost:8080/",
          "height": 206
        }
      },
      "execution_count": 70,
      "outputs": [
        {
          "output_type": "execute_result",
          "data": {
            "text/plain": [
              "   CreditScore Geography  Gender  Age  Tenure    Balance  NumOfProducts  \\\n",
              "0          619    France  Female   42       2       0.00              1   \n",
              "1          608     Spain  Female   41       1   83807.86              1   \n",
              "2          502    France  Female   42       8  159660.80              3   \n",
              "3          699    France  Female   39       1       0.00              2   \n",
              "4          850     Spain  Female   43       2  125510.82              1   \n",
              "\n",
              "   HasCrCard  IsActiveMember  EstimatedSalary  \n",
              "0          1               1        101348.88  \n",
              "1          0               1        112542.58  \n",
              "2          1               0        113931.57  \n",
              "3          0               0         93826.63  \n",
              "4          1               1         79084.10  "
            ],
            "text/html": [
              "\n",
              "  <div id=\"df-c694d0d3-7b55-4e59-a18a-556c5d87624f\">\n",
              "    <div class=\"colab-df-container\">\n",
              "      <div>\n",
              "<style scoped>\n",
              "    .dataframe tbody tr th:only-of-type {\n",
              "        vertical-align: middle;\n",
              "    }\n",
              "\n",
              "    .dataframe tbody tr th {\n",
              "        vertical-align: top;\n",
              "    }\n",
              "\n",
              "    .dataframe thead th {\n",
              "        text-align: right;\n",
              "    }\n",
              "</style>\n",
              "<table border=\"1\" class=\"dataframe\">\n",
              "  <thead>\n",
              "    <tr style=\"text-align: right;\">\n",
              "      <th></th>\n",
              "      <th>CreditScore</th>\n",
              "      <th>Geography</th>\n",
              "      <th>Gender</th>\n",
              "      <th>Age</th>\n",
              "      <th>Tenure</th>\n",
              "      <th>Balance</th>\n",
              "      <th>NumOfProducts</th>\n",
              "      <th>HasCrCard</th>\n",
              "      <th>IsActiveMember</th>\n",
              "      <th>EstimatedSalary</th>\n",
              "    </tr>\n",
              "  </thead>\n",
              "  <tbody>\n",
              "    <tr>\n",
              "      <th>0</th>\n",
              "      <td>619</td>\n",
              "      <td>France</td>\n",
              "      <td>Female</td>\n",
              "      <td>42</td>\n",
              "      <td>2</td>\n",
              "      <td>0.00</td>\n",
              "      <td>1</td>\n",
              "      <td>1</td>\n",
              "      <td>1</td>\n",
              "      <td>101348.88</td>\n",
              "    </tr>\n",
              "    <tr>\n",
              "      <th>1</th>\n",
              "      <td>608</td>\n",
              "      <td>Spain</td>\n",
              "      <td>Female</td>\n",
              "      <td>41</td>\n",
              "      <td>1</td>\n",
              "      <td>83807.86</td>\n",
              "      <td>1</td>\n",
              "      <td>0</td>\n",
              "      <td>1</td>\n",
              "      <td>112542.58</td>\n",
              "    </tr>\n",
              "    <tr>\n",
              "      <th>2</th>\n",
              "      <td>502</td>\n",
              "      <td>France</td>\n",
              "      <td>Female</td>\n",
              "      <td>42</td>\n",
              "      <td>8</td>\n",
              "      <td>159660.80</td>\n",
              "      <td>3</td>\n",
              "      <td>1</td>\n",
              "      <td>0</td>\n",
              "      <td>113931.57</td>\n",
              "    </tr>\n",
              "    <tr>\n",
              "      <th>3</th>\n",
              "      <td>699</td>\n",
              "      <td>France</td>\n",
              "      <td>Female</td>\n",
              "      <td>39</td>\n",
              "      <td>1</td>\n",
              "      <td>0.00</td>\n",
              "      <td>2</td>\n",
              "      <td>0</td>\n",
              "      <td>0</td>\n",
              "      <td>93826.63</td>\n",
              "    </tr>\n",
              "    <tr>\n",
              "      <th>4</th>\n",
              "      <td>850</td>\n",
              "      <td>Spain</td>\n",
              "      <td>Female</td>\n",
              "      <td>43</td>\n",
              "      <td>2</td>\n",
              "      <td>125510.82</td>\n",
              "      <td>1</td>\n",
              "      <td>1</td>\n",
              "      <td>1</td>\n",
              "      <td>79084.10</td>\n",
              "    </tr>\n",
              "  </tbody>\n",
              "</table>\n",
              "</div>\n",
              "      <button class=\"colab-df-convert\" onclick=\"convertToInteractive('df-c694d0d3-7b55-4e59-a18a-556c5d87624f')\"\n",
              "              title=\"Convert this dataframe to an interactive table.\"\n",
              "              style=\"display:none;\">\n",
              "        \n",
              "  <svg xmlns=\"http://www.w3.org/2000/svg\" height=\"24px\"viewBox=\"0 0 24 24\"\n",
              "       width=\"24px\">\n",
              "    <path d=\"M0 0h24v24H0V0z\" fill=\"none\"/>\n",
              "    <path d=\"M18.56 5.44l.94 2.06.94-2.06 2.06-.94-2.06-.94-.94-2.06-.94 2.06-2.06.94zm-11 1L8.5 8.5l.94-2.06 2.06-.94-2.06-.94L8.5 2.5l-.94 2.06-2.06.94zm10 10l.94 2.06.94-2.06 2.06-.94-2.06-.94-.94-2.06-.94 2.06-2.06.94z\"/><path d=\"M17.41 7.96l-1.37-1.37c-.4-.4-.92-.59-1.43-.59-.52 0-1.04.2-1.43.59L10.3 9.45l-7.72 7.72c-.78.78-.78 2.05 0 2.83L4 21.41c.39.39.9.59 1.41.59.51 0 1.02-.2 1.41-.59l7.78-7.78 2.81-2.81c.8-.78.8-2.07 0-2.86zM5.41 20L4 18.59l7.72-7.72 1.47 1.35L5.41 20z\"/>\n",
              "  </svg>\n",
              "      </button>\n",
              "      \n",
              "  <style>\n",
              "    .colab-df-container {\n",
              "      display:flex;\n",
              "      flex-wrap:wrap;\n",
              "      gap: 12px;\n",
              "    }\n",
              "\n",
              "    .colab-df-convert {\n",
              "      background-color: #E8F0FE;\n",
              "      border: none;\n",
              "      border-radius: 50%;\n",
              "      cursor: pointer;\n",
              "      display: none;\n",
              "      fill: #1967D2;\n",
              "      height: 32px;\n",
              "      padding: 0 0 0 0;\n",
              "      width: 32px;\n",
              "    }\n",
              "\n",
              "    .colab-df-convert:hover {\n",
              "      background-color: #E2EBFA;\n",
              "      box-shadow: 0px 1px 2px rgba(60, 64, 67, 0.3), 0px 1px 3px 1px rgba(60, 64, 67, 0.15);\n",
              "      fill: #174EA6;\n",
              "    }\n",
              "\n",
              "    [theme=dark] .colab-df-convert {\n",
              "      background-color: #3B4455;\n",
              "      fill: #D2E3FC;\n",
              "    }\n",
              "\n",
              "    [theme=dark] .colab-df-convert:hover {\n",
              "      background-color: #434B5C;\n",
              "      box-shadow: 0px 1px 3px 1px rgba(0, 0, 0, 0.15);\n",
              "      filter: drop-shadow(0px 1px 2px rgba(0, 0, 0, 0.3));\n",
              "      fill: #FFFFFF;\n",
              "    }\n",
              "  </style>\n",
              "\n",
              "      <script>\n",
              "        const buttonEl =\n",
              "          document.querySelector('#df-c694d0d3-7b55-4e59-a18a-556c5d87624f button.colab-df-convert');\n",
              "        buttonEl.style.display =\n",
              "          google.colab.kernel.accessAllowed ? 'block' : 'none';\n",
              "\n",
              "        async function convertToInteractive(key) {\n",
              "          const element = document.querySelector('#df-c694d0d3-7b55-4e59-a18a-556c5d87624f');\n",
              "          const dataTable =\n",
              "            await google.colab.kernel.invokeFunction('convertToInteractive',\n",
              "                                                     [key], {});\n",
              "          if (!dataTable) return;\n",
              "\n",
              "          const docLinkHtml = 'Like what you see? Visit the ' +\n",
              "            '<a target=\"_blank\" href=https://colab.research.google.com/notebooks/data_table.ipynb>data table notebook</a>'\n",
              "            + ' to learn more about interactive tables.';\n",
              "          element.innerHTML = '';\n",
              "          dataTable['output_type'] = 'display_data';\n",
              "          await google.colab.output.renderOutput(dataTable, element);\n",
              "          const docLink = document.createElement('div');\n",
              "          docLink.innerHTML = docLinkHtml;\n",
              "          element.appendChild(docLink);\n",
              "        }\n",
              "      </script>\n",
              "    </div>\n",
              "  </div>\n",
              "  "
            ]
          },
          "metadata": {},
          "execution_count": 70
        }
      ]
    },
    {
      "cell_type": "code",
      "source": [
        "## feature engineering\n",
        "geography=pd.get_dummies(X['Geography'],drop_first=True)\n",
        "gender=pd.get_dummies(X['Gender'],drop_first=True)"
      ],
      "metadata": {
        "id": "USRJ3CCreBS_"
      },
      "execution_count": 71,
      "outputs": []
    },
    {
      "cell_type": "code",
      "source": [
        "# concatenate these variables with datadrame\n",
        "X=X.drop(['Geography','Gender'],axis=1)"
      ],
      "metadata": {
        "id": "qV4-xB1LeTjM"
      },
      "execution_count": 72,
      "outputs": []
    },
    {
      "cell_type": "code",
      "source": [
        "X=pd.concat([X,geography,gender],axis=1)"
      ],
      "metadata": {
        "id": "dJZla0hFfDPo"
      },
      "execution_count": 75,
      "outputs": []
    },
    {
      "cell_type": "code",
      "source": [
        "# splitting the sataset\n",
        "from sklearn.model_selection import train_test_split\n",
        "\n",
        "X_train,X_test,y_train,y_test=train_test_split(X,y,train_size=.8,random_state=0)"
      ],
      "metadata": {
        "id": "RfHmBlH-fRWH"
      },
      "execution_count": 76,
      "outputs": []
    },
    {
      "cell_type": "code",
      "source": [
        "# feature scaling\n",
        "from sklearn.preprocessing import StandardScaler\n",
        "sc=StandardScaler()\n",
        "X_train=sc.fit_transform(X_train)\n",
        "X_test=sc.transform(X_test)"
      ],
      "metadata": {
        "id": "QxsCp-jZgCWE"
      },
      "execution_count": 77,
      "outputs": []
    },
    {
      "cell_type": "code",
      "source": [
        "X_train.shape"
      ],
      "metadata": {
        "id": "IMuZvQpynwoY",
        "outputId": "f90bb833-95eb-42d5-9946-05de649c2a1b",
        "colab": {
          "base_uri": "https://localhost:8080/"
        }
      },
      "execution_count": 78,
      "outputs": [
        {
          "output_type": "execute_result",
          "data": {
            "text/plain": [
              "(8000, 14)"
            ]
          },
          "metadata": {},
          "execution_count": 78
        }
      ]
    },
    {
      "cell_type": "code",
      "source": [
        "## part2 lets create ANN"
      ],
      "metadata": {
        "id": "mg9rpiEZn5fx"
      },
      "execution_count": 79,
      "outputs": []
    },
    {
      "cell_type": "code",
      "source": [
        "from tensorflow.keras.models import Sequential\n",
        "from tensorflow.keras.layers import Dense\n",
        "from tensorflow.keras.layers import LeakyReLU,PReLU,ELU,ReLU\n",
        "from tensorflow.keras.layers import Dropout"
      ],
      "metadata": {
        "id": "L5aqO9gyoOQp"
      },
      "execution_count": 80,
      "outputs": []
    },
    {
      "cell_type": "code",
      "source": [
        "## lets inti the ANN\n",
        "classifier=Sequential()"
      ],
      "metadata": {
        "id": "HTXt5gXEpIhv"
      },
      "execution_count": 81,
      "outputs": []
    },
    {
      "cell_type": "code",
      "source": [
        "# Adding the input layer\n",
        "classifier.add(Dense(units=11,activation='relu'))\n",
        "classifier.add(Dropout(0.3))"
      ],
      "metadata": {
        "id": "C4WCtyLAqT-h"
      },
      "execution_count": 82,
      "outputs": []
    },
    {
      "cell_type": "code",
      "source": [
        "# adding the hidden layer\n",
        "classifier.add(Dense(units=7,activation='relu'))\n",
        "classifier.add(Dropout(0.2))"
      ],
      "metadata": {
        "id": "sgchUd-9qWjr"
      },
      "execution_count": 83,
      "outputs": []
    },
    {
      "cell_type": "code",
      "source": [
        "# adding the second hidden layer\n",
        "classifier.add(Dense(units=6,activation='relu'))\n",
        "classifier.add(Dropout(0.3))"
      ],
      "metadata": {
        "id": "JA5K_BjYq4Os"
      },
      "execution_count": 84,
      "outputs": []
    },
    {
      "cell_type": "code",
      "source": [
        "# addinng the output layer\n",
        "classifier.add(Dense(1,activation='sigmoid'))"
      ],
      "metadata": {
        "id": "HZHE2aDTs9Je"
      },
      "execution_count": 85,
      "outputs": []
    },
    {
      "cell_type": "code",
      "source": [
        "import tensorflow\n",
        "opt=tensorflow.keras.optimizers.Adam(learning_rate=0.01)\n"
      ],
      "metadata": {
        "id": "TE40QOkytdpP"
      },
      "execution_count": 89,
      "outputs": []
    },
    {
      "cell_type": "code",
      "source": [
        "classifier.compile(optimizer=opt,loss='binary_crossentropy',metrics=['accuracy'])"
      ],
      "metadata": {
        "id": "kGQNXuQYtHfQ"
      },
      "execution_count": 90,
      "outputs": []
    },
    {
      "cell_type": "code",
      "source": [
        "model_history=classifier.fit(X_train,y_train,validation_split=0.33,batch_size=10,epochs=100)"
      ],
      "metadata": {
        "id": "LoGBzS6XtwYN",
        "outputId": "88c8b270-e5a0-45c8-832a-e31ff35f50d4",
        "colab": {
          "base_uri": "https://localhost:8080/"
        }
      },
      "execution_count": 91,
      "outputs": [
        {
          "output_type": "stream",
          "name": "stdout",
          "text": [
            "Epoch 1/100\n",
            "536/536 [==============================] - 6s 6ms/step - loss: 0.4908 - accuracy: 0.7960 - val_loss: 0.4381 - val_accuracy: 0.7955\n",
            "Epoch 2/100\n",
            "536/536 [==============================] - 3s 5ms/step - loss: 0.4573 - accuracy: 0.8016 - val_loss: 0.4350 - val_accuracy: 0.7955\n",
            "Epoch 3/100\n",
            "536/536 [==============================] - 3s 5ms/step - loss: 0.4442 - accuracy: 0.8102 - val_loss: 0.4128 - val_accuracy: 0.8179\n",
            "Epoch 4/100\n",
            "536/536 [==============================] - 3s 6ms/step - loss: 0.4302 - accuracy: 0.8177 - val_loss: 0.4000 - val_accuracy: 0.8239\n",
            "Epoch 5/100\n",
            "536/536 [==============================] - 4s 8ms/step - loss: 0.4197 - accuracy: 0.8194 - val_loss: 0.3948 - val_accuracy: 0.8232\n",
            "Epoch 6/100\n",
            "536/536 [==============================] - 4s 7ms/step - loss: 0.4238 - accuracy: 0.8237 - val_loss: 0.3889 - val_accuracy: 0.8319\n",
            "Epoch 7/100\n",
            "536/536 [==============================] - 3s 5ms/step - loss: 0.4207 - accuracy: 0.8222 - val_loss: 0.3977 - val_accuracy: 0.8092\n",
            "Epoch 8/100\n",
            "536/536 [==============================] - 3s 5ms/step - loss: 0.4160 - accuracy: 0.8233 - val_loss: 0.3839 - val_accuracy: 0.8334\n",
            "Epoch 9/100\n",
            "536/536 [==============================] - 3s 5ms/step - loss: 0.4108 - accuracy: 0.8229 - val_loss: 0.3878 - val_accuracy: 0.8209\n",
            "Epoch 10/100\n",
            "536/536 [==============================] - 2s 5ms/step - loss: 0.4122 - accuracy: 0.8255 - val_loss: 0.3885 - val_accuracy: 0.8164\n",
            "Epoch 11/100\n",
            "536/536 [==============================] - 2s 5ms/step - loss: 0.4186 - accuracy: 0.8216 - val_loss: 0.3772 - val_accuracy: 0.8372\n",
            "Epoch 12/100\n",
            "536/536 [==============================] - 3s 5ms/step - loss: 0.4087 - accuracy: 0.8261 - val_loss: 0.3887 - val_accuracy: 0.8323\n",
            "Epoch 13/100\n",
            "536/536 [==============================] - 3s 5ms/step - loss: 0.4131 - accuracy: 0.8294 - val_loss: 0.3837 - val_accuracy: 0.8376\n",
            "Epoch 14/100\n",
            "536/536 [==============================] - 3s 6ms/step - loss: 0.4099 - accuracy: 0.8238 - val_loss: 0.3818 - val_accuracy: 0.8175\n",
            "Epoch 15/100\n",
            "536/536 [==============================] - 4s 7ms/step - loss: 0.4121 - accuracy: 0.8207 - val_loss: 0.3786 - val_accuracy: 0.8360\n",
            "Epoch 16/100\n",
            "536/536 [==============================] - 3s 5ms/step - loss: 0.4091 - accuracy: 0.8216 - val_loss: 0.3999 - val_accuracy: 0.8118\n",
            "Epoch 17/100\n",
            "536/536 [==============================] - 3s 5ms/step - loss: 0.4073 - accuracy: 0.8302 - val_loss: 0.3794 - val_accuracy: 0.8383\n",
            "Epoch 18/100\n",
            "536/536 [==============================] - 3s 5ms/step - loss: 0.4010 - accuracy: 0.8281 - val_loss: 0.3782 - val_accuracy: 0.8398\n",
            "Epoch 19/100\n",
            "536/536 [==============================] - 3s 5ms/step - loss: 0.4063 - accuracy: 0.8238 - val_loss: 0.3872 - val_accuracy: 0.8141\n",
            "Epoch 20/100\n",
            "536/536 [==============================] - 3s 5ms/step - loss: 0.4046 - accuracy: 0.8233 - val_loss: 0.3822 - val_accuracy: 0.8270\n",
            "Epoch 21/100\n",
            "536/536 [==============================] - 2s 5ms/step - loss: 0.4079 - accuracy: 0.8253 - val_loss: 0.3746 - val_accuracy: 0.8345\n",
            "Epoch 22/100\n",
            "536/536 [==============================] - 2s 5ms/step - loss: 0.4043 - accuracy: 0.8259 - val_loss: 0.3958 - val_accuracy: 0.8164\n",
            "Epoch 23/100\n",
            "536/536 [==============================] - 3s 5ms/step - loss: 0.4045 - accuracy: 0.8242 - val_loss: 0.3928 - val_accuracy: 0.8148\n",
            "Epoch 24/100\n",
            "536/536 [==============================] - 3s 5ms/step - loss: 0.4067 - accuracy: 0.8259 - val_loss: 0.3896 - val_accuracy: 0.8440\n",
            "Epoch 25/100\n",
            "536/536 [==============================] - 2s 5ms/step - loss: 0.4100 - accuracy: 0.8229 - val_loss: 0.3863 - val_accuracy: 0.8164\n",
            "Epoch 26/100\n",
            "536/536 [==============================] - 3s 5ms/step - loss: 0.4084 - accuracy: 0.8233 - val_loss: 0.3761 - val_accuracy: 0.8417\n",
            "Epoch 27/100\n",
            "536/536 [==============================] - 2s 5ms/step - loss: 0.4061 - accuracy: 0.8246 - val_loss: 0.3817 - val_accuracy: 0.8387\n",
            "Epoch 28/100\n",
            "536/536 [==============================] - 3s 5ms/step - loss: 0.4067 - accuracy: 0.8252 - val_loss: 0.3768 - val_accuracy: 0.8417\n",
            "Epoch 29/100\n",
            "536/536 [==============================] - 3s 5ms/step - loss: 0.4030 - accuracy: 0.8255 - val_loss: 0.3937 - val_accuracy: 0.8198\n",
            "Epoch 30/100\n",
            "536/536 [==============================] - 3s 5ms/step - loss: 0.4105 - accuracy: 0.8218 - val_loss: 0.3972 - val_accuracy: 0.8236\n",
            "Epoch 31/100\n",
            "536/536 [==============================] - 4s 7ms/step - loss: 0.4047 - accuracy: 0.8266 - val_loss: 0.3929 - val_accuracy: 0.8277\n",
            "Epoch 32/100\n",
            "536/536 [==============================] - 3s 6ms/step - loss: 0.4018 - accuracy: 0.8214 - val_loss: 0.3846 - val_accuracy: 0.8167\n",
            "Epoch 33/100\n",
            "536/536 [==============================] - 3s 5ms/step - loss: 0.4090 - accuracy: 0.8173 - val_loss: 0.3830 - val_accuracy: 0.8205\n",
            "Epoch 34/100\n",
            "536/536 [==============================] - 3s 5ms/step - loss: 0.3988 - accuracy: 0.8240 - val_loss: 0.3885 - val_accuracy: 0.8323\n",
            "Epoch 35/100\n",
            "536/536 [==============================] - 3s 5ms/step - loss: 0.3968 - accuracy: 0.8240 - val_loss: 0.3809 - val_accuracy: 0.8300\n",
            "Epoch 36/100\n",
            "536/536 [==============================] - 2s 5ms/step - loss: 0.4087 - accuracy: 0.8238 - val_loss: 0.3800 - val_accuracy: 0.8349\n",
            "Epoch 37/100\n",
            "536/536 [==============================] - 3s 5ms/step - loss: 0.4053 - accuracy: 0.8225 - val_loss: 0.3776 - val_accuracy: 0.8326\n",
            "Epoch 38/100\n",
            "536/536 [==============================] - 3s 5ms/step - loss: 0.4010 - accuracy: 0.8283 - val_loss: 0.3825 - val_accuracy: 0.8326\n",
            "Epoch 39/100\n",
            "536/536 [==============================] - 3s 5ms/step - loss: 0.4038 - accuracy: 0.8259 - val_loss: 0.3783 - val_accuracy: 0.8379\n",
            "Epoch 40/100\n",
            "536/536 [==============================] - 3s 5ms/step - loss: 0.4099 - accuracy: 0.8186 - val_loss: 0.3833 - val_accuracy: 0.8160\n",
            "Epoch 41/100\n",
            "536/536 [==============================] - 3s 5ms/step - loss: 0.4033 - accuracy: 0.8205 - val_loss: 0.3901 - val_accuracy: 0.8236\n",
            "Epoch 42/100\n",
            "536/536 [==============================] - 3s 5ms/step - loss: 0.3976 - accuracy: 0.8250 - val_loss: 0.3868 - val_accuracy: 0.8145\n",
            "Epoch 43/100\n",
            "536/536 [==============================] - 3s 5ms/step - loss: 0.4073 - accuracy: 0.8276 - val_loss: 0.3781 - val_accuracy: 0.8368\n",
            "Epoch 44/100\n",
            "536/536 [==============================] - 2s 5ms/step - loss: 0.3984 - accuracy: 0.8283 - val_loss: 0.3771 - val_accuracy: 0.8432\n",
            "Epoch 45/100\n",
            "536/536 [==============================] - 3s 5ms/step - loss: 0.4039 - accuracy: 0.8237 - val_loss: 0.3863 - val_accuracy: 0.8133\n",
            "Epoch 46/100\n",
            "536/536 [==============================] - 3s 5ms/step - loss: 0.4056 - accuracy: 0.8209 - val_loss: 0.3792 - val_accuracy: 0.8300\n",
            "Epoch 47/100\n",
            "536/536 [==============================] - 3s 6ms/step - loss: 0.3972 - accuracy: 0.8263 - val_loss: 0.3810 - val_accuracy: 0.8183\n",
            "Epoch 48/100\n",
            "536/536 [==============================] - 3s 6ms/step - loss: 0.4073 - accuracy: 0.8203 - val_loss: 0.3816 - val_accuracy: 0.8239\n",
            "Epoch 49/100\n",
            "536/536 [==============================] - 3s 5ms/step - loss: 0.4092 - accuracy: 0.8233 - val_loss: 0.3860 - val_accuracy: 0.8228\n",
            "Epoch 50/100\n",
            "536/536 [==============================] - 2s 5ms/step - loss: 0.4068 - accuracy: 0.8250 - val_loss: 0.3934 - val_accuracy: 0.8198\n",
            "Epoch 51/100\n",
            "536/536 [==============================] - 3s 5ms/step - loss: 0.3989 - accuracy: 0.8238 - val_loss: 0.3869 - val_accuracy: 0.8402\n",
            "Epoch 52/100\n",
            "536/536 [==============================] - 3s 5ms/step - loss: 0.3999 - accuracy: 0.8265 - val_loss: 0.3937 - val_accuracy: 0.8376\n",
            "Epoch 53/100\n",
            "536/536 [==============================] - 2s 5ms/step - loss: 0.3970 - accuracy: 0.8278 - val_loss: 0.3781 - val_accuracy: 0.8334\n",
            "Epoch 54/100\n",
            "536/536 [==============================] - 3s 5ms/step - loss: 0.3993 - accuracy: 0.8237 - val_loss: 0.3805 - val_accuracy: 0.8368\n",
            "Epoch 55/100\n",
            "536/536 [==============================] - 3s 5ms/step - loss: 0.4048 - accuracy: 0.8218 - val_loss: 0.4015 - val_accuracy: 0.8137\n",
            "Epoch 56/100\n",
            "536/536 [==============================] - 2s 5ms/step - loss: 0.4068 - accuracy: 0.8199 - val_loss: 0.3764 - val_accuracy: 0.8478\n",
            "Epoch 57/100\n",
            "536/536 [==============================] - 3s 5ms/step - loss: 0.4029 - accuracy: 0.8222 - val_loss: 0.3845 - val_accuracy: 0.8156\n",
            "Epoch 58/100\n",
            "536/536 [==============================] - 3s 5ms/step - loss: 0.4009 - accuracy: 0.8257 - val_loss: 0.3818 - val_accuracy: 0.8417\n",
            "Epoch 59/100\n",
            "536/536 [==============================] - 3s 5ms/step - loss: 0.4019 - accuracy: 0.8242 - val_loss: 0.4141 - val_accuracy: 0.8148\n",
            "Epoch 60/100\n",
            "536/536 [==============================] - 3s 5ms/step - loss: 0.3994 - accuracy: 0.8250 - val_loss: 0.3964 - val_accuracy: 0.8342\n",
            "Epoch 61/100\n",
            "536/536 [==============================] - 3s 5ms/step - loss: 0.4080 - accuracy: 0.8233 - val_loss: 0.3755 - val_accuracy: 0.8425\n",
            "Epoch 62/100\n",
            "536/536 [==============================] - 3s 5ms/step - loss: 0.3940 - accuracy: 0.8302 - val_loss: 0.3812 - val_accuracy: 0.8413\n",
            "Epoch 63/100\n",
            "536/536 [==============================] - 3s 5ms/step - loss: 0.4059 - accuracy: 0.8225 - val_loss: 0.3947 - val_accuracy: 0.8122\n",
            "Epoch 64/100\n",
            "536/536 [==============================] - 4s 7ms/step - loss: 0.4019 - accuracy: 0.8250 - val_loss: 0.3797 - val_accuracy: 0.8330\n",
            "Epoch 65/100\n",
            "536/536 [==============================] - 3s 5ms/step - loss: 0.4010 - accuracy: 0.8205 - val_loss: 0.3767 - val_accuracy: 0.8444\n",
            "Epoch 66/100\n",
            "536/536 [==============================] - 3s 5ms/step - loss: 0.3973 - accuracy: 0.8276 - val_loss: 0.3879 - val_accuracy: 0.8270\n",
            "Epoch 67/100\n",
            "536/536 [==============================] - 3s 5ms/step - loss: 0.4009 - accuracy: 0.8309 - val_loss: 0.3697 - val_accuracy: 0.8478\n",
            "Epoch 68/100\n",
            "536/536 [==============================] - 3s 6ms/step - loss: 0.4008 - accuracy: 0.8272 - val_loss: 0.3773 - val_accuracy: 0.8387\n",
            "Epoch 69/100\n",
            "536/536 [==============================] - 4s 7ms/step - loss: 0.4013 - accuracy: 0.8261 - val_loss: 0.3883 - val_accuracy: 0.8345\n",
            "Epoch 70/100\n",
            "536/536 [==============================] - 3s 5ms/step - loss: 0.4018 - accuracy: 0.8244 - val_loss: 0.3775 - val_accuracy: 0.8406\n",
            "Epoch 71/100\n",
            "536/536 [==============================] - 2s 5ms/step - loss: 0.3973 - accuracy: 0.8268 - val_loss: 0.3733 - val_accuracy: 0.8387\n",
            "Epoch 72/100\n",
            "536/536 [==============================] - 2s 5ms/step - loss: 0.4011 - accuracy: 0.8278 - val_loss: 0.3807 - val_accuracy: 0.8398\n",
            "Epoch 73/100\n",
            "536/536 [==============================] - 3s 5ms/step - loss: 0.4007 - accuracy: 0.8235 - val_loss: 0.3827 - val_accuracy: 0.8270\n",
            "Epoch 74/100\n",
            "536/536 [==============================] - 3s 5ms/step - loss: 0.4053 - accuracy: 0.8246 - val_loss: 0.3781 - val_accuracy: 0.8300\n",
            "Epoch 75/100\n",
            "536/536 [==============================] - 3s 5ms/step - loss: 0.4107 - accuracy: 0.8203 - val_loss: 0.3810 - val_accuracy: 0.8224\n",
            "Epoch 76/100\n",
            "536/536 [==============================] - 2s 5ms/step - loss: 0.4004 - accuracy: 0.8274 - val_loss: 0.3897 - val_accuracy: 0.8164\n",
            "Epoch 77/100\n",
            "536/536 [==============================] - 3s 5ms/step - loss: 0.4041 - accuracy: 0.8265 - val_loss: 0.3751 - val_accuracy: 0.8296\n",
            "Epoch 78/100\n",
            "536/536 [==============================] - 3s 5ms/step - loss: 0.4004 - accuracy: 0.8276 - val_loss: 0.3766 - val_accuracy: 0.8364\n",
            "Epoch 79/100\n",
            "536/536 [==============================] - 3s 6ms/step - loss: 0.4049 - accuracy: 0.8257 - val_loss: 0.3738 - val_accuracy: 0.8429\n",
            "Epoch 80/100\n",
            "536/536 [==============================] - 4s 7ms/step - loss: 0.3960 - accuracy: 0.8255 - val_loss: 0.3685 - val_accuracy: 0.8436\n",
            "Epoch 81/100\n",
            "536/536 [==============================] - 3s 5ms/step - loss: 0.4087 - accuracy: 0.8197 - val_loss: 0.3859 - val_accuracy: 0.8289\n",
            "Epoch 82/100\n",
            "536/536 [==============================] - 3s 5ms/step - loss: 0.3972 - accuracy: 0.8280 - val_loss: 0.3840 - val_accuracy: 0.8372\n",
            "Epoch 83/100\n",
            "536/536 [==============================] - 3s 5ms/step - loss: 0.3996 - accuracy: 0.8265 - val_loss: 0.3943 - val_accuracy: 0.8190\n",
            "Epoch 84/100\n",
            "536/536 [==============================] - 3s 5ms/step - loss: 0.4069 - accuracy: 0.8276 - val_loss: 0.3860 - val_accuracy: 0.8345\n",
            "Epoch 85/100\n",
            "536/536 [==============================] - 3s 5ms/step - loss: 0.4027 - accuracy: 0.8272 - val_loss: 0.3853 - val_accuracy: 0.8307\n",
            "Epoch 86/100\n",
            "536/536 [==============================] - 3s 5ms/step - loss: 0.3962 - accuracy: 0.8294 - val_loss: 0.3747 - val_accuracy: 0.8338\n",
            "Epoch 87/100\n",
            "536/536 [==============================] - 3s 5ms/step - loss: 0.3955 - accuracy: 0.8332 - val_loss: 0.3800 - val_accuracy: 0.8217\n",
            "Epoch 88/100\n",
            "536/536 [==============================] - 3s 5ms/step - loss: 0.3988 - accuracy: 0.8283 - val_loss: 0.3729 - val_accuracy: 0.8296\n",
            "Epoch 89/100\n",
            "536/536 [==============================] - 3s 5ms/step - loss: 0.4004 - accuracy: 0.8255 - val_loss: 0.3770 - val_accuracy: 0.8171\n",
            "Epoch 90/100\n",
            "536/536 [==============================] - 3s 5ms/step - loss: 0.4002 - accuracy: 0.8268 - val_loss: 0.3789 - val_accuracy: 0.8448\n",
            "Epoch 91/100\n",
            "536/536 [==============================] - 3s 5ms/step - loss: 0.4010 - accuracy: 0.8285 - val_loss: 0.3834 - val_accuracy: 0.8357\n",
            "Epoch 92/100\n",
            "536/536 [==============================] - 3s 5ms/step - loss: 0.4003 - accuracy: 0.8261 - val_loss: 0.3714 - val_accuracy: 0.8470\n",
            "Epoch 93/100\n",
            "536/536 [==============================] - 3s 5ms/step - loss: 0.3895 - accuracy: 0.8319 - val_loss: 0.3804 - val_accuracy: 0.8330\n",
            "Epoch 94/100\n",
            "536/536 [==============================] - 3s 6ms/step - loss: 0.3985 - accuracy: 0.8253 - val_loss: 0.3837 - val_accuracy: 0.8376\n",
            "Epoch 95/100\n",
            "536/536 [==============================] - 4s 8ms/step - loss: 0.4064 - accuracy: 0.8235 - val_loss: 0.3793 - val_accuracy: 0.8266\n",
            "Epoch 96/100\n",
            "536/536 [==============================] - 3s 5ms/step - loss: 0.4026 - accuracy: 0.8276 - val_loss: 0.3675 - val_accuracy: 0.8330\n",
            "Epoch 97/100\n",
            "536/536 [==============================] - 3s 5ms/step - loss: 0.4004 - accuracy: 0.8300 - val_loss: 0.3753 - val_accuracy: 0.8323\n",
            "Epoch 98/100\n",
            "536/536 [==============================] - 3s 5ms/step - loss: 0.3979 - accuracy: 0.8274 - val_loss: 0.3762 - val_accuracy: 0.8228\n",
            "Epoch 99/100\n",
            "536/536 [==============================] - 3s 5ms/step - loss: 0.4005 - accuracy: 0.8259 - val_loss: 0.3726 - val_accuracy: 0.8323\n",
            "Epoch 100/100\n",
            "536/536 [==============================] - 3s 5ms/step - loss: 0.3938 - accuracy: 0.8280 - val_loss: 0.3753 - val_accuracy: 0.8342\n"
          ]
        }
      ]
    },
    {
      "cell_type": "code",
      "source": [
        "### early stopping\n",
        "import tensorflow as tf\n",
        "early_stopping=tf.keras.callbacks.EarlyStopping(\n",
        "    monitor=\"val_loss\",\n",
        "    min_delta=0.0001,\n",
        "    patience=20,\n",
        "    verbose=1,\n",
        "    mode=\"auto\",\n",
        "    baseline=None,\n",
        "    restore_best_weights=False,\n",
        ")"
      ],
      "metadata": {
        "id": "5AccbXBnuPOt"
      },
      "execution_count": 92,
      "outputs": []
    },
    {
      "cell_type": "code",
      "source": [
        "model_history=classifier.fit(X_train,y_train,validation_split=0.33,batch_size=10,epochs=100,callbacks=early_stopping)"
      ],
      "metadata": {
        "id": "nCOlCjq_vOC2",
        "outputId": "48aef8d3-7d1f-4d7c-f988-a1ead54eaa56",
        "colab": {
          "base_uri": "https://localhost:8080/"
        }
      },
      "execution_count": 93,
      "outputs": [
        {
          "output_type": "stream",
          "name": "stdout",
          "text": [
            "Epoch 1/100\n",
            "536/536 [==============================] - 3s 5ms/step - loss: 0.3998 - accuracy: 0.8281 - val_loss: 0.3744 - val_accuracy: 0.8395\n",
            "Epoch 2/100\n",
            "536/536 [==============================] - 3s 5ms/step - loss: 0.3958 - accuracy: 0.8259 - val_loss: 0.3854 - val_accuracy: 0.8398\n",
            "Epoch 3/100\n",
            "536/536 [==============================] - 3s 5ms/step - loss: 0.3994 - accuracy: 0.8252 - val_loss: 0.3746 - val_accuracy: 0.8391\n",
            "Epoch 4/100\n",
            "536/536 [==============================] - 3s 5ms/step - loss: 0.3954 - accuracy: 0.8265 - val_loss: 0.3750 - val_accuracy: 0.8497\n",
            "Epoch 5/100\n",
            "536/536 [==============================] - 3s 5ms/step - loss: 0.3906 - accuracy: 0.8235 - val_loss: 0.3763 - val_accuracy: 0.8470\n",
            "Epoch 6/100\n",
            "536/536 [==============================] - 2s 5ms/step - loss: 0.3978 - accuracy: 0.8289 - val_loss: 0.3697 - val_accuracy: 0.8463\n",
            "Epoch 7/100\n",
            "536/536 [==============================] - 3s 5ms/step - loss: 0.3882 - accuracy: 0.8294 - val_loss: 0.3722 - val_accuracy: 0.8368\n",
            "Epoch 8/100\n",
            "536/536 [==============================] - 3s 5ms/step - loss: 0.3988 - accuracy: 0.8274 - val_loss: 0.3737 - val_accuracy: 0.8383\n",
            "Epoch 9/100\n",
            "536/536 [==============================] - 3s 5ms/step - loss: 0.4030 - accuracy: 0.8272 - val_loss: 0.3717 - val_accuracy: 0.8307\n",
            "Epoch 10/100\n",
            "536/536 [==============================] - 2s 5ms/step - loss: 0.3941 - accuracy: 0.8244 - val_loss: 0.3751 - val_accuracy: 0.8463\n",
            "Epoch 11/100\n",
            "536/536 [==============================] - 2s 5ms/step - loss: 0.3948 - accuracy: 0.8263 - val_loss: 0.3783 - val_accuracy: 0.8126\n",
            "Epoch 12/100\n",
            "536/536 [==============================] - 3s 6ms/step - loss: 0.3998 - accuracy: 0.8253 - val_loss: 0.3782 - val_accuracy: 0.8326\n",
            "Epoch 13/100\n",
            "536/536 [==============================] - 4s 7ms/step - loss: 0.3997 - accuracy: 0.8242 - val_loss: 0.3835 - val_accuracy: 0.8383\n",
            "Epoch 14/100\n",
            "536/536 [==============================] - 3s 5ms/step - loss: 0.3972 - accuracy: 0.8285 - val_loss: 0.3741 - val_accuracy: 0.8489\n",
            "Epoch 15/100\n",
            "536/536 [==============================] - 3s 5ms/step - loss: 0.4011 - accuracy: 0.8265 - val_loss: 0.3656 - val_accuracy: 0.8501\n",
            "Epoch 16/100\n",
            "536/536 [==============================] - 3s 5ms/step - loss: 0.4032 - accuracy: 0.8253 - val_loss: 0.3865 - val_accuracy: 0.8315\n",
            "Epoch 17/100\n",
            "536/536 [==============================] - 3s 5ms/step - loss: 0.3911 - accuracy: 0.8283 - val_loss: 0.3824 - val_accuracy: 0.8141\n",
            "Epoch 18/100\n",
            "536/536 [==============================] - 3s 5ms/step - loss: 0.3976 - accuracy: 0.8233 - val_loss: 0.3678 - val_accuracy: 0.8440\n",
            "Epoch 19/100\n",
            "536/536 [==============================] - 3s 5ms/step - loss: 0.3913 - accuracy: 0.8306 - val_loss: 0.4113 - val_accuracy: 0.8417\n",
            "Epoch 20/100\n",
            "536/536 [==============================] - 2s 5ms/step - loss: 0.4023 - accuracy: 0.8246 - val_loss: 0.3718 - val_accuracy: 0.8395\n",
            "Epoch 21/100\n",
            "536/536 [==============================] - 2s 5ms/step - loss: 0.3937 - accuracy: 0.8308 - val_loss: 0.3682 - val_accuracy: 0.8383\n",
            "Epoch 22/100\n",
            "536/536 [==============================] - 3s 5ms/step - loss: 0.3968 - accuracy: 0.8311 - val_loss: 0.3741 - val_accuracy: 0.8311\n",
            "Epoch 23/100\n",
            "536/536 [==============================] - 3s 5ms/step - loss: 0.3970 - accuracy: 0.8257 - val_loss: 0.3685 - val_accuracy: 0.8398\n",
            "Epoch 24/100\n",
            "536/536 [==============================] - 3s 5ms/step - loss: 0.3975 - accuracy: 0.8253 - val_loss: 0.3769 - val_accuracy: 0.8277\n",
            "Epoch 25/100\n",
            "536/536 [==============================] - 2s 5ms/step - loss: 0.3992 - accuracy: 0.8270 - val_loss: 0.3868 - val_accuracy: 0.8137\n",
            "Epoch 26/100\n",
            "536/536 [==============================] - 3s 5ms/step - loss: 0.3961 - accuracy: 0.8278 - val_loss: 0.3750 - val_accuracy: 0.8360\n",
            "Epoch 27/100\n",
            "536/536 [==============================] - 3s 5ms/step - loss: 0.3953 - accuracy: 0.8285 - val_loss: 0.3741 - val_accuracy: 0.8398\n",
            "Epoch 28/100\n",
            "536/536 [==============================] - 3s 6ms/step - loss: 0.3907 - accuracy: 0.8259 - val_loss: 0.3954 - val_accuracy: 0.8171\n",
            "Epoch 29/100\n",
            "536/536 [==============================] - 4s 7ms/step - loss: 0.4010 - accuracy: 0.8231 - val_loss: 0.3824 - val_accuracy: 0.8334\n",
            "Epoch 30/100\n",
            "536/536 [==============================] - 2s 5ms/step - loss: 0.4018 - accuracy: 0.8207 - val_loss: 0.3772 - val_accuracy: 0.8360\n",
            "Epoch 31/100\n",
            "536/536 [==============================] - 3s 5ms/step - loss: 0.3985 - accuracy: 0.8280 - val_loss: 0.3702 - val_accuracy: 0.8451\n",
            "Epoch 32/100\n",
            "536/536 [==============================] - 3s 5ms/step - loss: 0.3994 - accuracy: 0.8270 - val_loss: 0.3714 - val_accuracy: 0.8425\n",
            "Epoch 33/100\n",
            "536/536 [==============================] - 3s 5ms/step - loss: 0.3942 - accuracy: 0.8268 - val_loss: 0.3777 - val_accuracy: 0.8470\n",
            "Epoch 34/100\n",
            "536/536 [==============================] - 3s 5ms/step - loss: 0.3983 - accuracy: 0.8257 - val_loss: 0.3708 - val_accuracy: 0.8466\n",
            "Epoch 35/100\n",
            "536/536 [==============================] - 3s 5ms/step - loss: 0.3972 - accuracy: 0.8259 - val_loss: 0.3693 - val_accuracy: 0.8432\n",
            "Epoch 35: early stopping\n"
          ]
        }
      ]
    },
    {
      "cell_type": "code",
      "source": [
        "model_history.history.keys()"
      ],
      "metadata": {
        "id": "HUOKljswwDQ6",
        "outputId": "7328f246-c9e5-4c66-a685-d29633bc0ca4",
        "colab": {
          "base_uri": "https://localhost:8080/"
        }
      },
      "execution_count": 94,
      "outputs": [
        {
          "output_type": "execute_result",
          "data": {
            "text/plain": [
              "dict_keys(['loss', 'accuracy', 'val_loss', 'val_accuracy'])"
            ]
          },
          "metadata": {},
          "execution_count": 94
        }
      ]
    },
    {
      "cell_type": "code",
      "source": [
        "# summarize history for accuracy\n",
        "plt.plot(model_history.history['accuracy'])\n",
        "plt.plot(model_history.history['val_accuracy'])\n",
        "plt.title('model accuracy')\n",
        "plt.ylabel('accuracy')\n",
        "plt.xlabel('epoch')\n",
        "plt.legend(['train', 'test'], loc='upper left')\n",
        "plt.show()"
      ],
      "metadata": {
        "id": "CLHP9aIQwmIO",
        "outputId": "93e68373-e66b-4127-a65c-a95b1dfead07",
        "colab": {
          "base_uri": "https://localhost:8080/",
          "height": 295
        }
      },
      "execution_count": 95,
      "outputs": [
        {
          "output_type": "display_data",
          "data": {
            "text/plain": [
              "<Figure size 432x288 with 1 Axes>"
            ],
            "image/png": "[encoded data removed]"
          },
          "metadata": {
            "needs_background": "light"
          }
        }
      ]
    },
    {
      "cell_type": "code",
      "source": [
        "# summarize history for loss\n",
        "plt.plot(model_history.history['loss'])\n",
        "plt.plot(model_history.history['val_loss'])\n",
        "plt.title('model loss')\n",
        "plt.ylabel('loss')\n",
        "plt.xlabel('epoch')\n",
        "plt.legend(['train', 'test'], loc='upper left')\n",
        "plt.show()"
      ],
      "metadata": {
        "id": "N5XIW2yfxCHd",
        "outputId": "c397a234-4d1e-4b57-dfea-fe88fe005f28",
        "colab": {
          "base_uri": "https://localhost:8080/",
          "height": 295
        }
      },
      "execution_count": 96,
      "outputs": [
        {
          "output_type": "display_data",
          "data": {
            "text/plain": [
              "<Figure size 432x288 with 1 Axes>"
            ],
            "image/png": "[encoded data removed]"
          },
          "metadata": {
            "needs_background": "light"
          }
        }
      ]
    },
    {
      "cell_type": "code",
      "source": [
        "# Part 3 - Making the predictions and evaluating the model\n",
        "\n",
        "# Predicting the Test set results\n",
        "y_pred = classifier.predict(X_test)\n",
        "y_pred = (y_pred >= 0.5)"
      ],
      "metadata": {
        "id": "7F1wIHgxx5gM",
        "outputId": "c09f2a45-6af1-4d39-ac82-72327ce523d8",
        "colab": {
          "base_uri": "https://localhost:8080/"
        }
      },
      "execution_count": 97,
      "outputs": [
        {
          "output_type": "stream",
          "name": "stdout",
          "text": [
            "63/63 [==============================] - 0s 2ms/step\n"
          ]
        }
      ]
    },
    {
      "cell_type": "code",
      "source": [
        "# make the confusion metrics\n",
        "from sklearn.metrics import confusion_matrix\n",
        "cm=confusion_matrix(y_test,y_pred)\n",
        "cm"
      ],
      "metadata": {
        "id": "RGKfE070yXe2",
        "outputId": "55f990d4-671c-42be-b751-1749de9bc91a",
        "colab": {
          "base_uri": "https://localhost:8080/"
        }
      },
      "execution_count": 98,
      "outputs": [
        {
          "output_type": "execute_result",
          "data": {
            "text/plain": [
              "array([[1569,   26],\n",
              "       [ 267,  138]])"
            ]
          },
          "metadata": {},
          "execution_count": 98
        }
      ]
    },
    {
      "cell_type": "code",
      "source": [
        "## calculate the accuracy\n",
        "from sklearn.metrics import accuracy_score\n",
        "score=accuracy_score(y_pred,y_test)"
      ],
      "metadata": {
        "id": "X2-dHL63zFpj"
      },
      "execution_count": 99,
      "outputs": []
    },
    {
      "cell_type": "code",
      "source": [
        "score"
      ],
      "metadata": {
        "id": "HuxytyhJzetW",
        "outputId": "aa5a67f7-fd9d-4e5e-8907-6af549631591",
        "colab": {
          "base_uri": "https://localhost:8080/"
        }
      },
      "execution_count": 100,
      "outputs": [
        {
          "output_type": "execute_result",
          "data": {
            "text/plain": [
              "0.8535"
            ]
          },
          "metadata": {},
          "execution_count": 100
        }
      ]
    },
    {
      "cell_type": "code",
      "source": [
        "### get the weight\n",
        "classifier.get_weights()"
      ],
      "metadata": {
        "id": "Ezkbj1Z2zgTm",
        "outputId": "c3666071-5ea0-41dc-cebd-8d677866d992",
        "colab": {
          "base_uri": "https://localhost:8080/"
        }
      },
      "execution_count": 101,
      "outputs": [
        {
          "output_type": "execute_result",
          "data": {
            "text/plain": [
              "[array([[ 5.86364150e-01, -6.85933709e-01, -5.85532486e-01,\n",
              "          8.92723441e-01,  1.19774556e+00, -3.53332251e-01,\n",
              "         -2.01053306e-01, -2.69979596e-01, -8.44610274e-01,\n",
              "         -1.98428929e-01, -5.35687983e-01],\n",
              "        [-6.35633802e+00,  3.26550126e+00,  1.80145490e+00,\n",
              "         -1.01759565e+00, -6.45621443e+00, -4.94958210e+00,\n",
              "          1.08470666e+00,  1.37723875e+00, -6.49287987e+00,\n",
              "         -1.45725048e+00,  1.90835667e+00],\n",
              "        [-3.94358754e-01,  8.79014969e-01, -1.57405268e-02,\n",
              "          8.39530945e-01, -1.66703209e-01, -3.52461226e-02,\n",
              "          1.02723092e-01,  2.46774301e-01,  1.67729914e-01,\n",
              "          1.50146747e+00, -1.58953033e-02],\n",
              "        [-1.76780069e+00, -4.11870569e-01, -4.52673721e+00,\n",
              "         -2.76632404e+00, -1.97830439e+00, -1.93761683e+00,\n",
              "          8.21928799e-01,  8.91482592e-01, -1.49614060e+00,\n",
              "         -3.82913780e+00, -4.09243250e+00],\n",
              "        [ 9.78619337e-01,  6.77330256e-01, -7.24906349e+00,\n",
              "          4.77543861e-01, -4.61533442e-02,  1.19423008e+00,\n",
              "          5.89813137e+00,  6.00579453e+00,  1.05324841e+00,\n",
              "          7.99480140e-01, -6.22790480e+00],\n",
              "        [-6.16603754e-02,  1.04669034e+00, -2.13496894e-01,\n",
              "          1.89392138e+00, -1.83061704e-01, -1.26955831e+00,\n",
              "          3.53002161e-01, -2.19307721e-01, -1.25077927e+00,\n",
              "         -2.51867801e-01, -5.27452603e-02],\n",
              "        [ 8.61394763e-01,  3.46087599e+00, -1.12161922e+00,\n",
              "          3.25413251e+00, -4.43411082e-01,  1.22407901e+00,\n",
              "         -6.97566628e-01, -1.33326793e+00, -6.28994048e-01,\n",
              "          2.46830368e+00, -2.10196853e+00],\n",
              "        [ 6.04026020e-01, -7.34643519e-01,  3.51680368e-02,\n",
              "         -1.88545153e-01,  6.28846824e-01, -1.70202184e+00,\n",
              "          2.10541248e-01, -3.51078749e-01, -1.64380801e+00,\n",
              "          1.44308221e+00, -1.10853963e-01],\n",
              "        [ 7.91180730e-01,  1.11923672e-01,  2.00932813e+00,\n",
              "         -9.06336188e-01, -2.89037555e-01, -2.74928361e-01,\n",
              "          2.71577626e-01, -2.51780272e-01, -3.84184062e-01,\n",
              "          9.38950241e-01,  1.17448485e+00],\n",
              "        [-3.56529444e-01,  3.11338365e-01, -1.63792714e-01,\n",
              "          1.02635905e-01,  2.71915402e-02, -5.09101510e-01,\n",
              "          5.38792193e-01,  4.43354815e-01, -1.20690858e+00,\n",
              "          8.72064471e-01,  8.38945210e-02],\n",
              "        [-2.64471233e-01,  3.79219055e-01,  2.66842872e-01,\n",
              "          2.52235413e-01,  8.63329172e-01,  3.73564482e-01,\n",
              "         -1.92898601e-01, -3.52495402e-01,  3.78146082e-01,\n",
              "          1.22128451e+00, -1.31507531e-01],\n",
              "        [ 7.48153329e-01,  3.11378807e-01,  2.09825087e+00,\n",
              "         -1.03248751e+00, -6.18000090e-01, -7.61599779e-01,\n",
              "          1.50594860e-01,  1.86437741e-01,  2.43662864e-01,\n",
              "          9.09750685e-02,  1.40408814e+00],\n",
              "        [ 5.75645380e-02,  4.68237042e-01,  3.27433020e-01,\n",
              "          7.31846988e-01,  1.29307777e-01, -6.79095089e-02,\n",
              "          9.83430743e-02, -5.04988944e-03, -1.83025062e+00,\n",
              "          5.26763082e-01, -1.26201898e-01],\n",
              "        [-3.88564318e-01,  4.09988672e-01,  5.31127572e-01,\n",
              "          1.07532084e+00,  1.16515243e+00,  1.25971222e+00,\n",
              "         -3.90176058e-01,  1.70265183e-01,  9.12299566e-03,\n",
              "          1.28460586e+00,  1.25453457e-01]], dtype=float32),\n",
              " array([ 1.1751595, -6.860213 , -3.7099805,  0.9215212,  0.4342732,\n",
              "         2.9325714, -8.159634 , -8.105072 ,  0.6136533, -2.729359 ,\n",
              "        -3.7961254], dtype=float32),\n",
              " array([[ 1.0723768e-01,  1.2639795e-01, -1.9052380e+00, -2.4007239e+00,\n",
              "         -3.8939807e+00, -7.0646131e-01, -4.4253865e-01],\n",
              "        [-9.9448389e-01,  4.1900828e-01, -3.4994247e+00, -1.7661239e+00,\n",
              "         -3.0960238e+00, -3.1115389e+00,  5.2984142e-01],\n",
              "        [-2.8052957e+00, -2.4273252e+00,  1.5123214e+00, -1.3145099e+00,\n",
              "          2.7517703e-01,  4.3277845e-01, -2.4818842e+00],\n",
              "        [ 2.3335958e-01,  3.6826774e-01, -1.6695739e+00, -1.6032561e+00,\n",
              "         -1.7236612e+00, -4.5295739e-01,  2.7050038e-03],\n",
              "        [ 3.0559999e-01,  8.3046108e-02, -2.7255206e+00, -1.4941018e+00,\n",
              "         -3.5662718e+00, -1.4405422e+00,  3.0925483e-01],\n",
              "        [ 1.6364986e-01,  1.4642371e-01, -2.4847295e+00, -1.6573012e+00,\n",
              "         -1.7288789e+00, -9.4023949e-01, -9.8190141e-01],\n",
              "        [-1.5792655e+00, -8.9618361e-01,  3.4921260e+00,  5.0052233e+00,\n",
              "         -1.6034224e+00,  4.0344462e+00, -4.8383039e-01],\n",
              "        [-1.6879374e+00, -1.8415126e+00,  5.2181726e+00, -1.5564450e+00,\n",
              "          5.1870894e+00,  5.2172832e+00, -7.0450443e-01],\n",
              "        [ 1.3982536e-01,  8.0715694e-02, -1.0794147e+00, -7.8136373e-01,\n",
              "         -2.2235873e+00, -1.9633527e+00, -3.0019328e-01],\n",
              "        [ 4.3492860e-01,  6.3052744e-01, -2.3436108e+00, -8.1986445e-01,\n",
              "         -2.5392022e+00, -4.6796593e-01, -3.1116712e-01],\n",
              "        [-2.4351599e+00, -2.6136475e+00,  2.7799609e-01,  7.2259700e-01,\n",
              "          1.0863486e-01,  5.7525772e-01, -2.6885309e+00]], dtype=float32),\n",
              " array([-0.2933253 , -0.6327078 ,  1.8184227 , -0.98053193,  0.42662477,\n",
              "         0.25626937, -0.4871137 ], dtype=float32),\n",
              " array([[ 0.15675515,  0.24855132, -1.8065794 ,  0.14738868,  0.10162538,\n",
              "          0.17227824],\n",
              "        [ 0.13897175,  0.1821013 , -0.91574854,  0.18586369,  0.20583777,\n",
              "          0.16321239],\n",
              "        [-2.86961   , -0.21359229,  0.13321996, -0.31747383, -2.8448036 ,\n",
              "         -3.1373165 ],\n",
              "        [-0.648861  , -0.55453295,  0.41363856, -1.0262333 , -0.59201765,\n",
              "         -4.360038  ],\n",
              "        [-2.005109  , -1.788463  ,  0.21747379, -2.078191  , -2.0669885 ,\n",
              "         -2.0849097 ],\n",
              "        [-1.3795816 , -0.21996447,  0.1967107 , -0.21729498, -1.8552145 ,\n",
              "         -0.23214862],\n",
              "        [ 0.03373805,  0.19391318, -3.1067705 , -0.10503712,  0.30648765,\n",
              "          0.06757613]], dtype=float32),\n",
              " array([ 1.1058049 ,  1.3012556 , -0.44978836,  1.4142747 ,  1.157236  ,\n",
              "         1.0589311 ], dtype=float32),\n",
              " array([[-0.13891304],\n",
              "        [-0.25782785],\n",
              "        [ 0.13177079],\n",
              "        [-0.1912863 ],\n",
              "        [-0.20060748],\n",
              "        [-0.22018592]], dtype=float32),\n",
              " array([-0.4166668], dtype=float32)]"
            ]
          },
          "metadata": {},
          "execution_count": 101
        }
      ]
    },
    {
      "cell_type": "code",
      "source": [],
      "metadata": {
        "id": "0B0kAiDMzrBq"
      },
      "execution_count": null,
      "outputs": []
    }
  ],
  "metadata": {
    "colab": {
      "name": "Welcome to Colaboratory",
      "provenance": [],
      "include_colab_link": true
    },
    "kernelspec": {
      "display_name": "Python 3",
      "name": "python3"
    },
    "accelerator": "GPU",
    "gpuClass": "standard"
  },
  "nbformat": 4,
  "nbformat_minor": 0
}